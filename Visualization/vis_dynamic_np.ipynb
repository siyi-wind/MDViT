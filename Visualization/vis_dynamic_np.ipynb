{
 "cells": [
  {
   "cell_type": "code",
   "execution_count": 1,
   "metadata": {},
   "outputs": [],
   "source": [
    "import numpy as np\n",
    "import pandas as pd"
   ]
  },
  {
   "cell_type": "code",
   "execution_count": 2,
   "metadata": {},
   "outputs": [],
   "source": [
    "folder = '/ubc/ece/home/ra/grads/siyi/Research/skin_lesion_segmentation/results/N_results/N35/ca_knn_dyn701_oh_SupDo_FATNet_adapt_20221208_1901'\n",
    "dynamic_np = np.load(folder+'/dynamic_info.npy')\n",
    "prototypes = np.load(folder+'/prototypes.npy')"
   ]
  },
  {
   "cell_type": "code",
   "execution_count": 3,
   "metadata": {},
   "outputs": [
    {
     "data": {
      "text/plain": [
       "(4212, 5)"
      ]
     },
     "execution_count": 3,
     "metadata": {},
     "output_type": "execute_result"
    }
   ],
   "source": [
    "dynamic_np.shape"
   ]
  },
  {
   "cell_type": "code",
   "execution_count": 4,
   "metadata": {},
   "outputs": [],
   "source": [
    "dynamic_np\n",
    "headers = ['label']+['D{}'.format(i) for i in range(dynamic_np.shape[1]-1)]\n",
    "df = pd.DataFrame(dynamic_np, columns=headers)"
   ]
  },
  {
   "cell_type": "code",
   "execution_count": 5,
   "metadata": {},
   "outputs": [],
   "source": [
    "df.to_csv(folder+'/dynamic_csv_epoch180.csv', index=False)"
   ]
  },
  {
   "cell_type": "code",
   "execution_count": 6,
   "metadata": {},
   "outputs": [
    {
     "data": {
      "text/plain": [
       "1.0     168\n",
       "3.0     176\n",
       "2.0    1217\n",
       "0.0    2651\n",
       "Name: label, dtype: int64"
      ]
     },
     "execution_count": 6,
     "metadata": {},
     "output_type": "execute_result"
    }
   ],
   "source": [
    "df['label'].value_counts(ascending=True)"
   ]
  },
  {
   "cell_type": "code",
   "execution_count": 7,
   "metadata": {},
   "outputs": [
    {
     "name": "stdout",
     "output_type": "stream",
     "text": [
      "(4, 512)\n",
      "[[ 0.46173856  0.2802914   0.03381643 ... -0.09726112  0.5840588\n",
      "   0.13721369]\n",
      " [ 0.51172227  0.10688318  0.03968484 ... -0.08135307  1.1282798\n",
      "   0.16373527]\n",
      " [ 0.6148449   0.19405836  0.18471141 ... -0.14501965  0.607723\n",
      "   0.16913351]\n",
      " [ 0.6680255   0.1375618   0.28582868 ... -0.522991    1.0465783\n",
      "   0.21978417]]\n"
     ]
    }
   ],
   "source": [
    "print(prototypes.shape)\n",
    "print(prototypes)"
   ]
  }
 ],
 "metadata": {
  "kernelspec": {
   "display_name": "Python 3.8.12 ('skinlesion')",
   "language": "python",
   "name": "python3"
  },
  "language_info": {
   "codemirror_mode": {
    "name": "ipython",
    "version": 3
   },
   "file_extension": ".py",
   "mimetype": "text/x-python",
   "name": "python",
   "nbconvert_exporter": "python",
   "pygments_lexer": "ipython3",
   "version": "3.8.12"
  },
  "orig_nbformat": 4,
  "vscode": {
   "interpreter": {
    "hash": "d7d995bc54c9aaecfe64e6668cd10ce18771211a7298b34b6f0fab6698bea7d7"
   }
  }
 },
 "nbformat": 4,
 "nbformat_minor": 2
}
