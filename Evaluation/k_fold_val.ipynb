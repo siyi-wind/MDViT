{
 "cells": [
  {
   "cell_type": "code",
   "execution_count": 1,
   "metadata": {},
   "outputs": [],
   "source": [
    "import pandas as pd\n",
    "import numpy as np\n",
    "import os"
   ]
  },
  {
   "cell_type": "code",
   "execution_count": 213,
   "metadata": {},
   "outputs": [
    {
     "name": "stdout",
     "output_type": "stream",
     "text": [
      "['ca_R34_v4_isic2018_ViTSeg_CNNprompt_adapt_20230508_1840', '._.DS_Store', '._cdr197-1525107.out', '.DS_Store', 'ca_b_isic2018_ViTSeg_CNNprompt_adapt_20230515_1144', 'ca_1B_isic2018_ViTSeg_CNNprompt_adapt_20230524_1809', 'others', 'k_fold.csv', 'ca_b_isic2018_ViTSeg_CNNprompt_adapt_20230516_0049', 'cdr197-1525107.out', 'ca_b_isic2018_ViTSeg_CNNprompt_adapt_20230516_0722']\n"
     ]
    }
   ],
   "source": [
    "# ISIC  DMF  SKD   PH2\n",
    "folder_path = '/ubc/ece/home/ra/grads/siyi/Research/skin_lesion_segmentation/results/ISICW/K_results/K3_ISIC'\n",
    "results_path_list = os.listdir(folder_path+'/')\n",
    "print(results_path_list)"
   ]
  },
  {
   "cell_type": "code",
   "execution_count": 218,
   "metadata": {},
   "outputs": [
    {
     "name": "stdout",
     "output_type": "stream",
     "text": [
      "Success!/ubc/ece/home/ra/grads/siyi/Research/skin_lesion_segmentation/results/ISICW/K_results/K3_ISIC/ca_R34_v4_isic2018_ViTSeg_CNNprompt_adapt_20230508_1840/test_results.csv\n",
      "can not open /ubc/ece/home/ra/grads/siyi/Research/skin_lesion_segmentation/results/ISICW/K_results/K3_ISIC/._.DS_Store/test_results.csv\n",
      "can not open /ubc/ece/home/ra/grads/siyi/Research/skin_lesion_segmentation/results/ISICW/K_results/K3_ISIC/._cdr197-1525107.out/test_results.csv\n",
      "can not open /ubc/ece/home/ra/grads/siyi/Research/skin_lesion_segmentation/results/ISICW/K_results/K3_ISIC/.DS_Store/test_results.csv\n",
      "Success!/ubc/ece/home/ra/grads/siyi/Research/skin_lesion_segmentation/results/ISICW/K_results/K3_ISIC/ca_b_isic2018_ViTSeg_CNNprompt_adapt_20230515_1144/test_results.csv\n",
      "Success!/ubc/ece/home/ra/grads/siyi/Research/skin_lesion_segmentation/results/ISICW/K_results/K3_ISIC/ca_1B_isic2018_ViTSeg_CNNprompt_adapt_20230524_1809/test_results.csv\n",
      "can not open /ubc/ece/home/ra/grads/siyi/Research/skin_lesion_segmentation/results/ISICW/K_results/K3_ISIC/others/test_results.csv\n",
      "can not open /ubc/ece/home/ra/grads/siyi/Research/skin_lesion_segmentation/results/ISICW/K_results/K3_ISIC/k_fold.csv/test_results.csv\n",
      "Success!/ubc/ece/home/ra/grads/siyi/Research/skin_lesion_segmentation/results/ISICW/K_results/K3_ISIC/ca_b_isic2018_ViTSeg_CNNprompt_adapt_20230516_0049/test_results.csv\n",
      "can not open /ubc/ece/home/ra/grads/siyi/Research/skin_lesion_segmentation/results/ISICW/K_results/K3_ISIC/cdr197-1525107.out/test_results.csv\n",
      "Success!/ubc/ece/home/ra/grads/siyi/Research/skin_lesion_segmentation/results/ISICW/K_results/K3_ISIC/ca_b_isic2018_ViTSeg_CNNprompt_adapt_20230516_0722/test_results.csv\n",
      "5\n"
     ]
    }
   ],
   "source": [
    "results_list = []\n",
    "for path in results_path_list:\n",
    "    try:\n",
    "        path = folder_path+'/'+path+'/test_results.csv'\n",
    "        df = pd.read_csv(path)\n",
    "        results_arr = df.values\n",
    "        results_list.append(results_arr)\n",
    "        print('Success!'+path)\n",
    "    except:\n",
    "        print('can not open '+path)\n",
    "# print(results_list)\n",
    "head = df.columns\n",
    "print(len(results_list))"
   ]
  },
  {
   "cell_type": "code",
   "execution_count": 219,
   "metadata": {},
   "outputs": [
    {
     "name": "stdout",
     "output_type": "stream",
     "text": [
      "(5, 2, 4)\n",
      "[[['isic2018' 0.1484996527433395 0.9200533665322924 0.8558166869655703]\n",
      "  ['Total' 0.1484996527433395 0.9200533665322924 0.8558166869655703]]\n",
      "\n",
      " [['isic2018' 0.1409091055393219 0.925376154501526 0.8647837051547219]\n",
      "  ['Total' 0.1409091055393219 0.925376154501526 0.8647837051547219]]\n",
      "\n",
      " [['isic2018' 0.1651960909366607 0.9170205328551072 0.8529518870839685]\n",
      "  ['Total' 0.1651960909366607 0.9170205328551072 0.8529518870839685]]\n",
      "\n",
      " [['isic2018' 0.1593213230371475 0.9186540660547544 0.8534068934306512]\n",
      "  ['Total' 0.1593213230371475 0.9186540660547544 0.8534068934306512]]\n",
      "\n",
      " [['isic2018' 0.1743925511837005 0.9059559102430432 0.8341350010311193]\n",
      "  ['Total' 0.1743925511837005 0.9059559102430432 0.8341350010311193]]]\n",
      "Index(['Name', 'loss', 'Di_score', 'IOU'], dtype='object')\n"
     ]
    }
   ],
   "source": [
    "all_results = np.stack(results_list, axis=0)\n",
    "print(all_results.shape)\n",
    "print(all_results)\n",
    "print(head)"
   ]
  },
  {
   "cell_type": "code",
   "execution_count": 220,
   "metadata": {},
   "outputs": [
    {
     "name": "stdout",
     "output_type": "stream",
     "text": [
      "[[0.15766374 0.91741201 0.85221883]\n",
      " [0.15766374 0.91741201 0.85221883]]\n",
      "[[0.01186621 0.00637719 0.00999794]\n",
      " [0.01186621 0.00637719 0.00999794]]\n"
     ]
    }
   ],
   "source": [
    "# calculate mean and std\n",
    "k_fold_avg = np.mean(all_results[:,:,1:].astype('float'),axis=0)\n",
    "k_fold_std = np.std(all_results[:,:,1:].astype('float'),axis=0)\n",
    "print(k_fold_avg)\n",
    "print(k_fold_std)"
   ]
  },
  {
   "cell_type": "code",
   "execution_count": 221,
   "metadata": {},
   "outputs": [
    {
     "data": {
      "text/html": [
       "<div>\n",
       "<style scoped>\n",
       "    .dataframe tbody tr th:only-of-type {\n",
       "        vertical-align: middle;\n",
       "    }\n",
       "\n",
       "    .dataframe tbody tr th {\n",
       "        vertical-align: top;\n",
       "    }\n",
       "\n",
       "    .dataframe thead th {\n",
       "        text-align: right;\n",
       "    }\n",
       "</style>\n",
       "<table border=\"1\" class=\"dataframe\">\n",
       "  <thead>\n",
       "    <tr style=\"text-align: right;\">\n",
       "      <th></th>\n",
       "      <th>Name</th>\n",
       "      <th>loss_m</th>\n",
       "      <th>loss_s</th>\n",
       "      <th>Di_score_m</th>\n",
       "      <th>Di_score_s</th>\n",
       "      <th>IOU_m</th>\n",
       "      <th>IOU_s</th>\n",
       "    </tr>\n",
       "  </thead>\n",
       "  <tbody>\n",
       "    <tr>\n",
       "      <th>0</th>\n",
       "      <td>isic2018</td>\n",
       "      <td>0.157664</td>\n",
       "      <td>0.011866</td>\n",
       "      <td>0.917412</td>\n",
       "      <td>0.006377</td>\n",
       "      <td>0.852219</td>\n",
       "      <td>0.009998</td>\n",
       "    </tr>\n",
       "    <tr>\n",
       "      <th>1</th>\n",
       "      <td>Total</td>\n",
       "      <td>0.157664</td>\n",
       "      <td>0.011866</td>\n",
       "      <td>0.917412</td>\n",
       "      <td>0.006377</td>\n",
       "      <td>0.852219</td>\n",
       "      <td>0.009998</td>\n",
       "    </tr>\n",
       "  </tbody>\n",
       "</table>\n",
       "</div>"
      ],
      "text/plain": [
       "       Name    loss_m    loss_s  Di_score_m  Di_score_s     IOU_m     IOU_s\n",
       "0  isic2018  0.157664  0.011866    0.917412    0.006377  0.852219  0.009998\n",
       "1     Total  0.157664  0.011866    0.917412    0.006377  0.852219  0.009998"
      ]
     },
     "execution_count": 221,
     "metadata": {},
     "output_type": "execute_result"
    }
   ],
   "source": [
    "try:\n",
    "    k_fold_df = pd.DataFrame({\n",
    "        head[0]: all_results[0,:,0],\n",
    "        head[1]+'_m': k_fold_avg[:,0],\n",
    "        head[1]+'_s': k_fold_std[:,0],\n",
    "        head[2]+'_m': k_fold_avg[:,1],\n",
    "        head[2]+'_s': k_fold_std[:,1],\n",
    "        head[3]+'_m': k_fold_avg[:,2],\n",
    "        head[3]+'_s': k_fold_std[:,2],\n",
    "    })\n",
    "except:\n",
    "    k_fold_df = pd.DataFrame({\n",
    "        head[0]: all_results[0,:,0],\n",
    "        head[1]+'_m': k_fold_avg[:,0],\n",
    "        head[1]+'_s': k_fold_std[:,0],\n",
    "        head[2]+'_m': k_fold_avg[:,1],\n",
    "        head[2]+'_s': k_fold_std[:,1],\n",
    "        # head[3]+'_m': k_fold_avg[:,2],\n",
    "        # head[3]+'_s': k_fold_std[:,2],\n",
    "    })\n",
    "k_fold_df.to_csv(folder_path+'/k_fold.csv', index=False)\n",
    "k_fold_df"
   ]
  }
 ],
 "metadata": {
  "kernelspec": {
   "display_name": "Python 3.8.13 ('py38')",
   "language": "python",
   "name": "python3"
  },
  "language_info": {
   "codemirror_mode": {
    "name": "ipython",
    "version": 3
   },
   "file_extension": ".py",
   "mimetype": "text/x-python",
   "name": "python",
   "nbconvert_exporter": "python",
   "pygments_lexer": "ipython3",
   "version": "3.8.12"
  },
  "orig_nbformat": 4,
  "vscode": {
   "interpreter": {
    "hash": "854b900af10907ba2cdbf043242c05a033d308488de058c6704f60b5dfa3fee2"
   }
  }
 },
 "nbformat": 4,
 "nbformat_minor": 2
}
